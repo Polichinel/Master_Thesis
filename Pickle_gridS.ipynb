{
 "cells": [
  {
   "cell_type": "code",
   "execution_count": 1,
   "metadata": {},
   "outputs": [
    {
     "name": "stderr",
     "output_type": "stream",
     "text": [
      "/home/polichinel/anaconda3/lib/python3.6/importlib/_bootstrap.py:219: RuntimeWarning: numpy.dtype size changed, may indicate binary incompatibility. Expected 96, got 88\n",
      "  return f(*args, **kwds)\n",
      "/home/polichinel/anaconda3/lib/python3.6/importlib/_bootstrap.py:219: RuntimeWarning: numpy.dtype size changed, may indicate binary incompatibility. Expected 96, got 88\n",
      "  return f(*args, **kwds)\n",
      "/home/polichinel/anaconda3/lib/python3.6/importlib/_bootstrap.py:219: RuntimeWarning: numpy.dtype size changed, may indicate binary incompatibility. Expected 96, got 88\n",
      "  return f(*args, **kwds)\n",
      "/home/polichinel/anaconda3/lib/python3.6/importlib/_bootstrap.py:219: RuntimeWarning: numpy.dtype size changed, may indicate binary incompatibility. Expected 96, got 88\n",
      "  return f(*args, **kwds)\n",
      "/home/polichinel/anaconda3/lib/python3.6/importlib/_bootstrap.py:219: RuntimeWarning: numpy.dtype size changed, may indicate binary incompatibility. Expected 96, got 88\n",
      "  return f(*args, **kwds)\n",
      "/home/polichinel/anaconda3/lib/python3.6/importlib/_bootstrap.py:219: RuntimeWarning: numpy.dtype size changed, may indicate binary incompatibility. Expected 96, got 88\n",
      "  return f(*args, **kwds)\n",
      "/home/polichinel/anaconda3/lib/python3.6/site-packages/sklearn/ensemble/weight_boosting.py:29: DeprecationWarning: numpy.core.umath_tests is an internal NumPy module and should not be imported. It will be removed in a future NumPy release.\n",
      "  from numpy.core.umath_tests import inner1d\n"
     ]
    }
   ],
   "source": [
    "import numpy as np\n",
    "import pandas as pd\n",
    "import geopandas as gpd\n",
    "\n",
    "import time\n",
    "import pickle\n",
    "\n",
    "import matplotlib.pyplot as plt\n",
    "import matplotlib.lines as mlines\n",
    "import matplotlib as mpl    \n",
    "mpl.rc('font',family='serif')\n",
    "\n",
    "import seaborn as sns\n",
    "\n",
    "import xgboost as xgb \n",
    "# from sklearn.model_selection import train_test_split\n",
    "from sklearn.metrics import auc, average_precision_score, recall_score, precision_recall_curve, roc_auc_score, roc_curve, precision_score, accuracy_score\n",
    "from sklearn.utils.fixes import signature\n",
    "from imblearn.under_sampling import RandomUnderSampler  "
   ]
  },
  {
   "cell_type": "code",
   "execution_count": 2,
   "metadata": {},
   "outputs": [],
   "source": [
    "pkl_file = open('new_test_df.pkl', 'rb')\n",
    "\n",
    "df_test = pickle.load(pkl_file)\n",
    "\n",
    "pkl_file.close()\n",
    "\n",
    "pkl_file = open('new_train_df.pkl', 'rb')\n",
    "\n",
    "df_train = pickle.load(pkl_file)\n",
    "\n",
    "pkl_file.close()\n",
    "\n"
   ]
  },
  {
   "cell_type": "markdown",
   "metadata": {},
   "source": [
    "# Grid Search"
   ]
  },
  {
   "cell_type": "code",
   "execution_count": 3,
   "metadata": {},
   "outputs": [
    {
     "name": "stderr",
     "output_type": "stream",
     "text": [
      "/home/polichinel/anaconda3/lib/python3.6/importlib/_bootstrap.py:219: RuntimeWarning: numpy.dtype size changed, may indicate binary incompatibility. Expected 96, got 88\n",
      "  return f(*args, **kwds)\n"
     ]
    }
   ],
   "source": [
    "from scipy.stats import uniform\n",
    "from sklearn.model_selection import RandomizedSearchCV, cross_val_score\n",
    "import GPy\n",
    "import GPyOpt\n",
    "\n",
    "from GPyOpt.methods import BayesianOptimization\n",
    "from bayes_opt import BayesianOptimization as BOpt"
   ]
  },
  {
   "cell_type": "code",
   "execution_count": 4,
   "metadata": {},
   "outputs": [],
   "source": [
    "def get_train(df_train,df_test):\n",
    "    X_labels = ['dce_mu','cm_mu','dce_slope','cm_slope','dce_acc','cm_acc','cm_mass','dce_mass']\n",
    "    y_label = ['binary_best'] # Sloppy binarization\n",
    "\n",
    "    df_test['binary_best'] = (df_test['best']>0)+0\n",
    "    df_train['binary_best']  = (df_train['best']>0)+0\n",
    "    \n",
    "#     df_train = df_train.sample(1000).copy() # subset..\n",
    "\n",
    "    \n",
    "    X_train = df_train[X_labels]\n",
    "    y_train = np.array(df_train[y_label]).ravel()\n",
    "    \n",
    "    return(X_train, y_train)"
   ]
  },
  {
   "cell_type": "code",
   "execution_count": 5,
   "metadata": {},
   "outputs": [],
   "source": [
    "X_train, y_train = get_train(df_train,df_test) # year does not metter"
   ]
  },
  {
   "cell_type": "code",
   "execution_count": 6,
   "metadata": {},
   "outputs": [
    {
     "name": "stderr",
     "output_type": "stream",
     "text": [
      "[Parallel(n_jobs=-1)]: Done   2 out of   8 | elapsed:   13.8s remaining:   41.3s\n"
     ]
    },
    {
     "name": "stdout",
     "output_type": "stream",
     "text": [
      "0.8298499622857212\n"
     ]
    },
    {
     "name": "stderr",
     "output_type": "stream",
     "text": [
      "[Parallel(n_jobs=-1)]: Done   8 out of   8 | elapsed:   15.2s finished\n"
     ]
    }
   ],
   "source": [
    "xg_cl = xgb.XGBClassifier(objective='binary:logistic', n_estimators=10, seed=42)\n",
    "baseline = cross_val_score(xg_cl, X_train, y_train, scoring = 'average_precision', cv=8, n_jobs=-1,  verbose=1).mean()\n",
    "\n",
    "print(baseline)"
   ]
  },
  {
   "cell_type": "code",
   "execution_count": 7,
   "metadata": {},
   "outputs": [
    {
     "name": "stdout",
     "output_type": "stream",
     "text": [
      "Fitting 8 folds for each of 60 candidates, totalling 480 fits\n"
     ]
    },
    {
     "name": "stderr",
     "output_type": "stream",
     "text": [
      "[Parallel(n_jobs=-1)]: Done  34 tasks      | elapsed: 20.5min\n",
      "[Parallel(n_jobs=-1)]: Done 184 tasks      | elapsed: 130.5min\n",
      "[Parallel(n_jobs=-1)]: Done 434 tasks      | elapsed: 331.7min\n",
      "[Parallel(n_jobs=-1)]: Done 480 out of 480 | elapsed: 374.6min finished\n"
     ]
    },
    {
     "name": "stdout",
     "output_type": "stream",
     "text": [
      "0.8869863172188491\n"
     ]
    }
   ],
   "source": [
    "param_dist = {'eta': uniform(0,1),\n",
    "             'gamma': uniform(0,10),\n",
    "             'max_depth': range(1,50),\n",
    "             'n_estimators':range(1,200), # 100\n",
    "             'min_child_weight': range(1,10),\n",
    "             'subsample' : uniform(0,1),\n",
    "             'colsample_bytree': uniform(0,1)}\n",
    "\n",
    "rs = RandomizedSearchCV(xg_cl, param_distributions=param_dist, scoring = 'average_precision', n_iter=60, n_jobs=-1, cv=8, verbose=1, random_state=42)\n",
    "rs.fit(X_train, y_train)\n",
    "\n",
    "print(rs.best_score_)"
   ]
  },
  {
   "cell_type": "code",
   "execution_count": 8,
   "metadata": {},
   "outputs": [
    {
     "name": "stderr",
     "output_type": "stream",
     "text": [
      "reconstraining parameters GP_regression.rbf\n",
      "reconstraining parameters GP_regression.Gaussian_noise.variance\n"
     ]
    },
    {
     "name": "stdout",
     "output_type": "stream",
     "text": [
      "0.8825404114446704\n"
     ]
    }
   ],
   "source": [
    "bds = [{'name': 'eta', 'type': 'continuous', 'domain': (0, 1)},\n",
    "        {'name': 'gamma', 'type': 'continuous', 'domain': (0, 10)},\n",
    "        {'name': 'max_depth', 'type': 'discrete', 'domain': (1, 50)},\n",
    "        {'name': 'n_estimators', 'type': 'discrete', 'domain': (1, 200)},\n",
    "        {'name': 'min_child_weight', 'type': 'discrete', 'domain': (1, 10)},\n",
    "        {'name': 'subsample', 'type' : 'continuous', 'domain': (0,1)},\n",
    "        {'name': 'colsample_bytree', 'type' : 'continuous', 'domain' : (0,1) }]\n",
    "\n",
    "# Optimization objective\n",
    "def cv_score(parameters):\n",
    "    parameters = parameters[0]\n",
    "    score = cross_val_score(\n",
    "        xgb.XGBClassifier(objective='binary:logistic', seed=42,\n",
    "                          eta=parameters[0],\n",
    "                          gamma=int(parameters[1]),\n",
    "                          max_depth=int(parameters[2]),\n",
    "                          n_estimators=int(parameters[3]),\n",
    "                          min_child_weight = parameters[4],\n",
    "                          subsample = parameters[5],\n",
    "                          colsample_bytree = parameters[6]),\n",
    "        X_train, y_train, scoring='average_precision', cv=8, n_jobs=-1).mean()\n",
    "    score = np.array(score)\n",
    "    return score\n",
    "\n",
    "optimizer = BayesianOptimization(f=cv_score, \n",
    "                                 domain=bds,\n",
    "                                 model_type='GP_MCMC',\n",
    "                                 acquisition_type ='EI_MCMC',\n",
    "                                 acquisition_jitter = 0.05,\n",
    "                                 exact_feval=True, \n",
    "                                 maximize=True,\n",
    "                                 verbosity = True,\n",
    "                                 verbosity_model = True,\n",
    "                                 num_cores = 8)\n",
    "\n",
    "# Only 20 iterations because we have 5 initial random points\n",
    "optimizer.run_optimization(max_iter=55)\n",
    "\n",
    "#print(-optimizer.fx_opt) # men skal - væk?\n",
    "print(-optimizer.fx_opt) "
   ]
  },
  {
   "cell_type": "code",
   "execution_count": 9,
   "metadata": {},
   "outputs": [
    {
     "data": {
      "text/plain": [
       "'Best score=0.8892'"
      ]
     },
     "execution_count": 9,
     "metadata": {},
     "output_type": "execute_result"
    }
   ],
   "source": [
    "from skopt.space import Real, Integer\n",
    "from skopt.utils import use_named_args\n",
    "from skopt import gp_minimize\n",
    "# from skopt import gp_maximize\n",
    "\n",
    "\n",
    "from xgboost import XGBClassifier\n",
    "\n",
    "from sklearn.model_selection import cross_val_score\n",
    "\n",
    "cls = XGBClassifier()\n",
    "\n",
    "space = [\n",
    "    Integer(1, 50, name='max_depth'),\n",
    "#     Real(10**-5, 10**0, 'log-uniform', name='learning_rate'),\n",
    "    Real(0.1, 1, name='learning_rate'),\n",
    "    Integer(5, 200, name='n_estimators'),\n",
    "    Real(0.1, 10, name='gamma'),\n",
    "    Integer(1, 5, name='min_child_weight'),\n",
    "    Real(0.1, 1, name='subsample'),\n",
    "    Real(0.1, 1, name='colsample_bytree')\n",
    "]\n",
    "\n",
    "@use_named_args(space)\n",
    "def objective(**params):\n",
    "    cls.set_params(**params)\n",
    "\n",
    "    return -np.mean(cross_val_score(cls, X_train, y_train, cv=8, n_jobs=-1,\n",
    "                                    scoring=\"average_precision\"))\n",
    "\n",
    "res_gp = gp_minimize(objective, space, n_calls=60, random_state=0)\n",
    "\n",
    "\"Best score=%.4f\" % -res_gp.fun"
   ]
  },
  {
   "cell_type": "code",
   "execution_count": 10,
   "metadata": {},
   "outputs": [
    {
     "name": "stdout",
     "output_type": "stream",
     "text": [
      "Baseline AP = 0.83\n",
      "Random search AP = 0.89\n",
      "Bayesian optimization AP = 0.88\n",
      "Bayesian optimization 2 AP = 0.89\n"
     ]
    },
    {
     "data": {
      "image/png": "[encoded data removed]",
      "text/plain": [
       "<Figure size 432x288 with 1 Axes>"
      ]
     },
     "metadata": {},
     "output_type": "display_data"
    }
   ],
   "source": [
    "y_rs = np.maximum.accumulate(rs.cv_results_['mean_test_score'])\n",
    "y_bo = np.maximum.accumulate(-optimizer.Y).ravel()\n",
    "y_bo2 = np.maximum.accumulate(-res_gp.func_vals)\n",
    "\n",
    "print(f'Baseline AP = {baseline:.2f}')\n",
    "print(f'Random search AP = {y_rs[-1]:.2f}')\n",
    "print(f'Bayesian optimization AP = {y_bo[-1]:.2f}')\n",
    "print(f'Bayesian optimization 2 AP = {-res_gp.fun:.2f}')\n",
    "\n",
    "\n",
    "plt.plot(y_rs, 'o-', label='Random search')\n",
    "plt.plot(y_bo, 'o-', label='Bayesian optimization')\n",
    "plt.plot(y_bo2, 'o-', label='Bayesian optimization2')\n",
    "\n",
    "plt.xlabel('Iteration')\n",
    "plt.ylabel('AP')\n",
    "plt.ylim(0.70, 0.95)\n",
    "plt.title('Value of the best sampled CV score')\n",
    "plt.legend()\n",
    "\n",
    "plt.show()"
   ]
  },
  {
   "cell_type": "code",
   "execution_count": 11,
   "metadata": {},
   "outputs": [
    {
     "name": "stdout",
     "output_type": "stream",
     "text": [
      "eta:1.0        \n",
      "gamma: 10.0        \n",
      "max_depth: 50.0        \n",
      "n_estimators: 200.0        \n",
      "min_child_weight: 1.0        \n",
      "subsample: 1.0        \n",
      "colsample_bytree: 1.0\n"
     ]
    }
   ],
   "source": [
    "print(f'eta:{optimizer.x_opt[0]}\\\n",
    "        \\ngamma: {optimizer.x_opt[1]}\\\n",
    "        \\nmax_depth: {optimizer.x_opt[2]}\\\n",
    "        \\nn_estimators: {optimizer.x_opt[3]}\\\n",
    "        \\nmin_child_weight: {optimizer.x_opt[4]}\\\n",
    "        \\nsubsample: {optimizer.x_opt[5]}\\\n",
    "        \\ncolsample_bytree: {optimizer.x_opt[6]}')"
   ]
  },
  {
   "cell_type": "code",
   "execution_count": 12,
   "metadata": {},
   "outputs": [
    {
     "data": {
      "text/plain": [
       "{'colsample_bytree': 0.6334037565104235,\n",
       " 'eta': 0.8714605901877177,\n",
       " 'gamma': 8.036720768991145,\n",
       " 'max_depth': 44,\n",
       " 'min_child_weight': 4,\n",
       " 'n_estimators': 30,\n",
       " 'subsample': 0.8832802589188683}"
      ]
     },
     "execution_count": 12,
     "metadata": {},
     "output_type": "execute_result"
    }
   ],
   "source": [
    "rs.best_params_"
   ]
  },
  {
   "cell_type": "code",
   "execution_count": 13,
   "metadata": {},
   "outputs": [
    {
     "name": "stdout",
     "output_type": "stream",
     "text": [
      "max_depth: 47        \n",
      "eta:0.1        \n",
      "n_estimators: 27        \n",
      "gamma: 10.0        \n",
      "min_child_weight: 1        \n",
      "subsample: 0.8065904335629459        \n",
      "colsample_bytree: 1.0\n"
     ]
    }
   ],
   "source": [
    "print(f'max_depth: {res_gp.x[0]}\\\n",
    "        \\neta:{res_gp.x[1]}\\\n",
    "        \\nn_estimators: {res_gp.x[2]}\\\n",
    "        \\ngamma: {res_gp.x[3]}\\\n",
    "        \\nmin_child_weight: {res_gp.x[4]}\\\n",
    "        \\nsubsample: {res_gp.x[5]}\\\n",
    "        \\ncolsample_bytree: {res_gp.x[6]}')"
   ]
  },
  {
   "cell_type": "markdown",
   "metadata": {},
   "source": [
    "# Pickle"
   ]
  },
  {
   "cell_type": "code",
   "execution_count": 23,
   "metadata": {},
   "outputs": [],
   "source": [
    "file_name = \"random_GS.pkl\"\n",
    "output = open(file_name, 'wb') \n",
    "pickle.dump(rs.best_params_, output)\n",
    "output.close()\n",
    "\n",
    "file_name = \"bayesian_GS.pkl\"\n",
    "output = open(file_name, 'wb') \n",
    "pickle.dump(optimizer.x_opt, output)\n",
    "output.close()\n",
    "\n",
    "file_name = \"bayesian_GS2.pkl\"\n",
    "output = open(file_name, 'wb') \n",
    "pickle.dump(res_gp.x, output)\n",
    "output.close()\n",
    "\n",
    "file_name = \"bayesian_GS2_meta.pkl\"\n",
    "output = open(file_name, 'wb') \n",
    "pickle.dump(res_gp, output)\n",
    "output.close()"
   ]
  },
  {
   "cell_type": "markdown",
   "metadata": {},
   "source": [
    "# Pickle test"
   ]
  },
  {
   "cell_type": "code",
   "execution_count": 24,
   "metadata": {},
   "outputs": [],
   "source": [
    "pkl_file = open('random_GS.pkl', 'rb')\n",
    "random_GS_test = pickle.load(pkl_file)\n",
    "pkl_file.close()\n",
    "\n",
    "pkl_file = open('bayesian_GS.pkl', 'rb')\n",
    "bayesian_GS_test = pickle.load(pkl_file)\n",
    "pkl_file.close()\n",
    "\n",
    "pkl_file = open('bayesian_GS2.pkl', 'rb')\n",
    "bayesian_GS2_test = pickle.load(pkl_file)\n",
    "pkl_file.close()\n",
    "\n",
    "pkl_file = open('bayesian_GS2_meta.pkl', 'rb')\n",
    "bayesian_GS2_meta_test = pickle.load(pkl_file)\n",
    "pkl_file.close()"
   ]
  },
  {
   "cell_type": "code",
   "execution_count": 20,
   "metadata": {},
   "outputs": [
    {
     "name": "stdout",
     "output_type": "stream",
     "text": [
      "eta:1.0        \n",
      "gamma: 10.0        \n",
      "max_depth: 50.0        \n",
      "n_estimators: 200.0        \n",
      "min_child_weight: 1.0        \n",
      "subsample: 1.0        \n",
      "colsample_bytree: 1.0\n"
     ]
    }
   ],
   "source": [
    "print(f'eta:{bayesian_GS_test[0]}\\\n",
    "        \\ngamma: {bayesian_GS_test[1]}\\\n",
    "        \\nmax_depth: {bayesian_GS_test[2]}\\\n",
    "        \\nn_estimators: {bayesian_GS_test[3]}\\\n",
    "        \\nmin_child_weight: {bayesian_GS_test[4]}\\\n",
    "        \\nsubsample: {bayesian_GS_test[5]}\\\n",
    "        \\ncolsample_bytree: {bayesian_GS_test[6]}')"
   ]
  },
  {
   "cell_type": "code",
   "execution_count": 21,
   "metadata": {},
   "outputs": [
    {
     "data": {
      "text/plain": [
       "{'colsample_bytree': 0.6334037565104235,\n",
       " 'eta': 0.8714605901877177,\n",
       " 'gamma': 8.036720768991145,\n",
       " 'max_depth': 44,\n",
       " 'min_child_weight': 4,\n",
       " 'n_estimators': 30,\n",
       " 'subsample': 0.8832802589188683}"
      ]
     },
     "execution_count": 21,
     "metadata": {},
     "output_type": "execute_result"
    }
   ],
   "source": [
    "random_GS_test"
   ]
  },
  {
   "cell_type": "code",
   "execution_count": 22,
   "metadata": {},
   "outputs": [
    {
     "name": "stdout",
     "output_type": "stream",
     "text": [
      "max_depth: 47        \n",
      "eta:0.1        \n",
      "n_estimators: 27        \n",
      "gamma: 10.0        \n",
      "min_child_weight: 1        \n",
      "subsample: 0.8065904335629459        \n",
      "colsample_bytree: 1.0\n"
     ]
    }
   ],
   "source": [
    "print(f'max_depth: {bayesian_GS2_test[0]}\\\n",
    "        \\neta:{bayesian_GS2_test[1]}\\\n",
    "        \\nn_estimators: {bayesian_GS2_test[2]}\\\n",
    "        \\ngamma: {bayesian_GS2_test[3]}\\\n",
    "        \\nmin_child_weight: {bayesian_GS2_test[4]}\\\n",
    "        \\nsubsample: {bayesian_GS2_test[5]}\\\n",
    "        \\ncolsample_bytree: {bayesian_GS2_test[6]}')"
   ]
  },
  {
   "cell_type": "code",
   "execution_count": 25,
   "metadata": {},
   "outputs": [
    {
     "data": {
      "text/plain": [
       "array([-0.76329962, -0.87238762, -0.85370448, -0.82980955, -0.85258377,\n",
       "       -0.87780682, -0.81817274, -0.88098186, -0.84051879, -0.8103388 ,\n",
       "       -0.73497862, -0.83270512, -0.88223341, -0.72368658, -0.88013474,\n",
       "       -0.87766551, -0.88398087, -0.88022297, -0.68298043, -0.84497329,\n",
       "       -0.83105156, -0.88461837, -0.88127757, -0.8314421 , -0.79492094,\n",
       "       -0.88075053, -0.84684407, -0.85462778, -0.64879138, -0.84503875,\n",
       "       -0.79557269, -0.88221413, -0.88460698, -0.8333357 , -0.87040105,\n",
       "       -0.81156209, -0.84709777, -0.88027144, -0.88919976, -0.88698732,\n",
       "       -0.88141224, -0.87965672, -0.87166499, -0.85551302, -0.86897761,\n",
       "       -0.88197007, -0.86782558, -0.87163332, -0.83356984, -0.88667741,\n",
       "       -0.85735987, -0.83841221, -0.8546792 , -0.82879805, -0.87921731,\n",
       "       -0.87416146, -0.87746185, -0.8663072 , -0.62475821, -0.87210231])"
      ]
     },
     "execution_count": 25,
     "metadata": {},
     "output_type": "execute_result"
    }
   ],
   "source": [
    "bayesian_GS2_meta_test.func_vals"
   ]
  }
 ],
 "metadata": {
  "kernelspec": {
   "display_name": "Python 3",
   "language": "python",
   "name": "python3"
  },
  "language_info": {
   "codemirror_mode": {
    "name": "ipython",
    "version": 3
   },
   "file_extension": ".py",
   "mimetype": "text/x-python",
   "name": "python",
   "nbconvert_exporter": "python",
   "pygments_lexer": "ipython3",
   "version": "3.6.6"
  }
 },
 "nbformat": 4,
 "nbformat_minor": 2
}
